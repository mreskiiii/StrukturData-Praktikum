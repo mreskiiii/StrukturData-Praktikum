{
  "nbformat": 4,
  "nbformat_minor": 0,
  "metadata": {
    "colab": {
      "provenance": []
    },
    "kernelspec": {
      "name": "python3",
      "display_name": "Python 3"
    },
    "language_info": {
      "name": "python"
    }
  },
  "cells": [
    {
      "cell_type": "markdown",
      "source": [
        "## **TUGAS PRAKTIKUM 2 Selection Sort**"
      ],
      "metadata": {
        "id": "LetezKEzV7OT"
      }
    },
    {
      "cell_type": "code",
      "source": [
        "def selectionSort(alist):\n",
        "  for slot in range(0,len(alist)-1):\n",
        "    position=slot\n",
        "    for location in range(slot+1,len(alist)):\n",
        "      if alist[location]<alist[position]:\n",
        "        position = location\n",
        "\n",
        "    temp = alist[slot]\n",
        "    alist[slot] = alist[position]\n",
        "    alist[position] = temp\n",
        "    print(alist)\n",
        "number = [1,2,3,4,5,6,7,8,9,10]\n",
        "selectionSort(number)\n",
        "print(number)"
      ],
      "metadata": {
        "colab": {
          "base_uri": "https://localhost:8080/"
        },
        "id": "NtCtVqrYV64k",
        "outputId": "6cb8d9dd-3599-4bf7-b100-a6dd2ee00544"
      },
      "execution_count": 10,
      "outputs": [
        {
          "output_type": "stream",
          "name": "stdout",
          "text": [
            "[1, 2, 3, 4, 5, 6, 7, 8, 9, 10]\n",
            "[1, 2, 3, 4, 5, 6, 7, 8, 9, 10]\n",
            "[1, 2, 3, 4, 5, 6, 7, 8, 9, 10]\n",
            "[1, 2, 3, 4, 5, 6, 7, 8, 9, 10]\n",
            "[1, 2, 3, 4, 5, 6, 7, 8, 9, 10]\n",
            "[1, 2, 3, 4, 5, 6, 7, 8, 9, 10]\n",
            "[1, 2, 3, 4, 5, 6, 7, 8, 9, 10]\n",
            "[1, 2, 3, 4, 5, 6, 7, 8, 9, 10]\n",
            "[1, 2, 3, 4, 5, 6, 7, 8, 9, 10]\n",
            "[1, 2, 3, 4, 5, 6, 7, 8, 9, 10]\n"
          ]
        }
      ]
    },
    {
      "cell_type": "markdown",
      "source": [
        "**CONTOH CODING TUPLE**"
      ],
      "metadata": {
        "id": "YVft6yIpOhH_"
      }
    },
    {
      "cell_type": "code",
      "source": [
        "# Menggabungkan dua tuple\n",
        "tuple1 = (1, 2, 3)\n",
        "tuple2 = (4, 5, 6)\n",
        "combined_tuple = tuple1 + tuple2\n",
        "print(combined_tuple)  # Output: (1, 2, 3, 4, 5, 6)\n",
        "\n",
        "# Menggunakan metode count dan index\n",
        "my_tuple = (1, 2, 2, 3, 4, 2)\n",
        "count = my_tuple.count(2)  # Menghitung berapa kali angka 2 muncul dalam tuple\n",
        "index = my_tuple.index(3)  # Menemukan indeks pertama angka 3 dalam tuple\n",
        "\n",
        "print(\"Jumlah angka 2:\", count)\n",
        "print(\"Indeks pertama angka 3:\", index)\n",
        "\n",
        "# Mengakses elemen tuple dengan pengindeksan negatif\n",
        "my_tuple = (10, 20, 30, 40, 50)\n",
        "print(my_tuple[-1])  # Output: 50 (elemen terakhir)\n",
        "print(my_tuple[-3])  # Output: 30 (elemen ketiga dari belakang)\n",
        "\n",
        "# Membalik urutan tuple\n",
        "my_tuple = (1, 2, 3, 4, 5)\n",
        "reversed_tuple = my_tuple[::-1]\n",
        "print(reversed_tuple)  # Output: (5, 4, 3, 2, 1)\n",
        "\n",
        "# Menggunakan tuple sebagai kunci dalam dictionary\n",
        "student_grades = {\n",
        "    (\"John\", \"Math\"): 90,\n",
        "    (\"Alice\", \"Science\"): 88,\n",
        "    (\"Bob\", \"Math\"): 85\n",
        "}\n",
        "\n",
        "# Mengakses nilai berdasarkan kunci tuple\n",
        "print(\"Nilai John dalam Matematika:\", student_grades[(\"John\", \"Math\")])\n",
        "\n"
      ],
      "metadata": {
        "colab": {
          "base_uri": "https://localhost:8080/"
        },
        "id": "jFw3W9TkRhTl",
        "outputId": "39f9f7c4-2629-4fc9-e5a7-540cf6bdfd6e"
      },
      "execution_count": null,
      "outputs": [
        {
          "output_type": "stream",
          "name": "stdout",
          "text": [
            "(1, 2, 3, 4, 5, 6)\n",
            "Jumlah angka 2: 3\n",
            "Indeks pertama angka 3: 3\n",
            "50\n",
            "30\n",
            "(5, 4, 3, 2, 1)\n",
            "Nilai John dalam Matematika: 90\n"
          ]
        }
      ]
    },
    {
      "cell_type": "markdown",
      "source": [
        "**CONTOH CODING DICTIONARY**\n",
        "\n",
        "\n"
      ],
      "metadata": {
        "id": "zhuCHUY-Sm50"
      }
    },
    {
      "cell_type": "code",
      "source": [
        "# Membuat sebuah dictionary\n",
        "student = {\n",
        "    \"nama\": \"Muhamad Reski M\",\n",
        "    \"umur\": \"19\",\n",
        "    \"jurusan\": \"Informatika\"\n",
        "}\n",
        "\n",
        "# Mengakses nilai dalam dictionary\n",
        "print(\"Nama:\", student[\"nama\"])\n",
        "print(\"Umur:\", student[\"umur\"])\n",
        "print(\"Jurusan:\", student[\"jurusan\"])\n"
      ],
      "metadata": {
        "colab": {
          "base_uri": "https://localhost:8080/"
        },
        "id": "kHMd1jIQSw9U",
        "outputId": "7bf5a072-da0f-41af-95f4-17d8586a394c"
      },
      "execution_count": 1,
      "outputs": [
        {
          "output_type": "stream",
          "name": "stdout",
          "text": [
            "Nama: Muhamad Reski M\n",
            "Umur: 19\n",
            "Jurusan: Informatika\n"
          ]
        }
      ]
    },
    {
      "cell_type": "code",
      "source": [
        "# Menggunakan dictionary untuk menyimpan data yang terstruktur\n",
        "book = {\n",
        "    \"judul\": \"Python Programming\",\n",
        "    \"pengarang\": \"Muhamad Reski M\",\n",
        "    \"tahun_terbit\": 2004\n",
        "}\n",
        "\n",
        "# Mengakses dan mencetak informasi buku\n",
        "print(\"Judul Buku:\", book[\"judul\"])\n",
        "print(\"Pengarang:\", book[\"pengarang\"])\n",
        "print(\"Tahun Terbit:\", book[\"tahun_terbit\"])\n"
      ],
      "metadata": {
        "colab": {
          "base_uri": "https://localhost:8080/"
        },
        "id": "om4pk0soTG8K",
        "outputId": "069c5936-ad62-4b3f-cf73-61396442d7cf"
      },
      "execution_count": 3,
      "outputs": [
        {
          "output_type": "stream",
          "name": "stdout",
          "text": [
            "Judul Buku: Python Programming\n",
            "Pengarang: Muhamad Reski M\n",
            "Tahun Terbit: 2004\n"
          ]
        }
      ]
    },
    {
      "cell_type": "code",
      "source": [
        "# Dictionary bersarang (nested dictionary)\n",
        "kelas = {\n",
        "    \"siswa\": {\n",
        "        \"Reski\": {\n",
        "            \"umur\": 19,\n",
        "            \"nilai\": 95\n",
        "        },\n",
        "        \"Dippa\": {\n",
        "            \"umur\": 21,\n",
        "            \"nilai\": 92\n",
        "        }\n",
        "    },\n",
        "    \"guru\": {\n",
        "        \"Pak Guru 1\": {\n",
        "            \"mata_pelajaran\": \"Matematika\",\n",
        "            \"tahun_ajaran\": 2023\n",
        "        },\n",
        "        \"Pak Guru 2\": {\n",
        "            \"mata_pelajaran\": \"Fisika\",\n",
        "            \"tahun_ajaran\": 2023\n",
        "        }\n",
        "    }\n",
        "}\n",
        "\n",
        "# Mengakses nilai dalam dictionary bersarang\n",
        "print(\"Umur Reski:\", kelas[\"siswa\"][\"Reski\"][\"umur\"])\n",
        "print(\"Mata Pelajaran Pak Guru 1:\", kelas[\"guru\"][\"Pak Guru 1\"][\"mata_pelajaran\"])\n"
      ],
      "metadata": {
        "colab": {
          "base_uri": "https://localhost:8080/"
        },
        "id": "CwWH2MBkTWt0",
        "outputId": "d0f1a877-e057-4db7-ed67-23e7eea28748"
      },
      "execution_count": 5,
      "outputs": [
        {
          "output_type": "stream",
          "name": "stdout",
          "text": [
            "Umur Reski: 19\n",
            "Mata Pelajaran Pak Guru 1: Matematika\n"
          ]
        }
      ]
    },
    {
      "cell_type": "markdown",
      "source": [
        "**Contoh Coding untuk Tuple dan Dictionary**"
      ],
      "metadata": {
        "id": "QU6ngOHbRk4c"
      }
    },
    {
      "cell_type": "code",
      "execution_count": 6,
      "metadata": {
        "colab": {
          "base_uri": "https://localhost:8080/"
        },
        "id": "1fbnaBK-ONjR",
        "outputId": "40c350fb-c993-4377-9332-605fafa7c46a"
      },
      "outputs": [
        {
          "output_type": "stream",
          "name": "stdout",
          "text": [
            "Nama: Muhamad Reski M, Umur: 19\n",
            "Matematika: 95\n",
            "Fisika: 85\n",
            "Kimia: 90\n"
          ]
        }
      ],
      "source": [
        "# Menggabungkan Dictionary dengan Tuple\n",
        "student_info = {\n",
        "    \"name\": \"Muhamad Reski M\",\n",
        "    \"age\": 19\n",
        "}\n",
        "\n",
        "grades = {\n",
        "    \"Matematika\": 95,\n",
        "    \"Fisika\": 85,\n",
        "    \"Kimia\": 90\n",
        "}\n",
        "\n",
        "student_info[\"grades\"] = grades\n",
        "\n",
        "# Mengakses nilai-nilai dalam Dictionary bersarang\n",
        "print(f\"Nama: {student_info['name']}, Umur: {student_info['age']}\")\n",
        "for subject, score in student_info[\"grades\"].items():\n",
        "    print(f\"{subject}: {score}\")\n"
      ]
    },
    {
      "cell_type": "code",
      "source": [
        "# Menggunakan Tuple dan Dictionary dalam kombinasi\n",
        "data = {\n",
        "    \"nama\": \"Reski\",\n",
        "    \"nilai\": {\"Matematika\": 92, \"Fisika\": 87, \"Kimia\": 90},\n",
        "    \"aktivitas\": (\"Renang\", \"Bersepeda\")\n",
        "}\n",
        "\n",
        "# Mengakses nilai-nilai dalam struktur data yang beragam\n",
        "print(f\"Nama: {data['nama']}\")\n",
        "print(f\"Nilai Matematika: {data['nilai']['Matematika']}\")\n",
        "print(f\"Aktivitas pertama: {data['aktivitas'][0]}\")\n"
      ],
      "metadata": {
        "colab": {
          "base_uri": "https://localhost:8080/"
        },
        "id": "mnsOuqlITmUt",
        "outputId": "265c2790-fae5-49ca-a760-b2a9b607b1e6"
      },
      "execution_count": 7,
      "outputs": [
        {
          "output_type": "stream",
          "name": "stdout",
          "text": [
            "Nama: Reski\n",
            "Nilai Matematika: 92\n",
            "Aktivitas pertama: Renang\n"
          ]
        }
      ]
    },
    {
      "cell_type": "code",
      "source": [
        "# Tuple dalam Dictionary bersarang\n",
        "classroom = {\n",
        "    \"kelas_A\": {\n",
        "        \"siswa\": (\"Reski\", \"Dippa\"),\n",
        "        \"nilai\": (90, 85)\n",
        "    },\n",
        "    \"kelas_B\": {\n",
        "        \"siswa\": (\"Bob\", \"Charlie\"),\n",
        "        \"nilai\": (88, 92)\n",
        "    }\n",
        "}\n",
        "\n",
        "# Mengakses elemen Tuple dalam Dictionary bersarang\n",
        "print(\"Nilai Reski dalam Kelas A:\", classroom[\"kelas_A\"][\"nilai\"][0])\n",
        "print(\"Nama-nama siswa dalam Kelas B:\", classroom[\"kelas_B\"][\"siswa\"])\n"
      ],
      "metadata": {
        "colab": {
          "base_uri": "https://localhost:8080/"
        },
        "id": "Lm27UluGTqt3",
        "outputId": "31437662-20e7-459e-8c5f-2840a40cc7c5"
      },
      "execution_count": 9,
      "outputs": [
        {
          "output_type": "stream",
          "name": "stdout",
          "text": [
            "Nilai Reski dalam Kelas A: 90\n",
            "Nama-nama siswa dalam Kelas B: ('Bob', 'Charlie')\n"
          ]
        }
      ]
    }
  ]
}