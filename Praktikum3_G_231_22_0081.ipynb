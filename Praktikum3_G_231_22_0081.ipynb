{
  "nbformat": 4,
  "nbformat_minor": 0,
  "metadata": {
    "colab": {
      "provenance": []
    },
    "kernelspec": {
      "name": "python3",
      "display_name": "Python 3"
    },
    "language_info": {
      "name": "python"
    }
  },
  "cells": [
    {
      "cell_type": "markdown",
      "source": [
        "Nama : Muhamad Reski Mufiani\n",
        "\n",
        "Nim  : G.231.22.0081"
      ],
      "metadata": {
        "id": "Al1_oRm3_SDD"
      }
    },
    {
      "cell_type": "code",
      "execution_count": 1,
      "metadata": {
        "colab": {
          "base_uri": "https://localhost:8080/"
        },
        "id": "8obErbhK-HF5",
        "outputId": "a9015be0-a909-44d5-e7dd-fbc94e53a315"
      },
      "outputs": [
        {
          "output_type": "stream",
          "name": "stdout",
          "text": [
            "programming\n"
          ]
        }
      ],
      "source": [
        "def converts(s):\n",
        "  new =''.join(s)\n",
        "  return new\n",
        "\n",
        "s = ['p','r','o','g','r','a','m','m','i','n','g']\n",
        "\n",
        "print(converts(s))"
      ]
    }
  ]
}