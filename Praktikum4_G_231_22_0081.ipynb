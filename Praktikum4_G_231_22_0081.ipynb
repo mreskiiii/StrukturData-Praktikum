{
  "nbformat": 4,
  "nbformat_minor": 0,
  "metadata": {
    "colab": {
      "provenance": []
    },
    "kernelspec": {
      "name": "python3",
      "display_name": "Python 3"
    },
    "language_info": {
      "name": "python"
    }
  },
  "cells": [
    {
      "cell_type": "code",
      "source": [
        "def is_pangram(name):\n",
        "    # Konversi nama ke huruf kecil untuk memudahkan pemrosesan\n",
        "    name_lower = name.lower()\n",
        "\n",
        "    # Inisialisasi set untuk menyimpan huruf yang sudah muncul\n",
        "    alphabet_set = set()\n",
        "\n",
        "    # Loop melalui setiap karakter dalam nama\n",
        "    for char in name_lower:\n",
        "        # Periksa apakah karakter adalah huruf dan belum ada di set\n",
        "        if char.isalpha() and char not in alphabet_set:\n",
        "            # Tambahkan huruf ke set\n",
        "            alphabet_set.add(char)\n",
        "\n",
        "    # Periksa apakah set berisi semua huruf alfabet\n",
        "    return len(alphabet_set) == 26\n",
        "\n",
        "# Nama yang akan diperiksa\n",
        "nama_seseorang = \"Muhamad Reski Mufiani\"\n",
        "\n",
        "# Periksa apakah nama tersebut adalah pangram\n",
        "if is_pangram(nama_seseorang):\n",
        "    print(f\"{nama_seseorang} bukan pangram nama!\")\n",
        "else:\n",
        "    print(f\"{nama_seseorang} adalah pangram nama.\")"
      ],
      "metadata": {
        "colab": {
          "base_uri": "https://localhost:8080/"
        },
        "id": "erQcPL746HjX",
        "outputId": "6a54bd55-aa3f-45d3-aa2a-e394c56d000c"
      },
      "execution_count": 2,
      "outputs": [
        {
          "output_type": "stream",
          "name": "stdout",
          "text": [
            "Muhamad Reski Mufiani adalah pangram nama.\n"
          ]
        }
      ]
    },
    {
      "cell_type": "code",
      "source": [
        "#Program Python untuk memeriksa string pangram atau tidak.\n",
        "\n",
        "import string                                   #Import modul string\n",
        "\n",
        "def ispangram(str):\n",
        "    alphabet = \"abcdefghijklmnopqrstuvwxyz\"     # Memberikan nilai pada alphabet\n",
        "    for huruf in alphabet:                      # Dalam huruf di alphabet.\n",
        "        if huruf not in str.lower():            # Jika huruf tidak ada di alphabet,\n",
        "            return False                        # maka akan mendapat return false karena bukan pangram\n",
        "\n",
        "    return True                                 # Jika huruf ada di alphabeth maka mendapat return True karena pangram\n",
        "\n",
        "\n",
        "#Driver program untuk mencoba function diatas\n",
        "kalimat = 'the quick brown fox jumps over the lazy three dog'  # memberikan kalimat untuk di cek\n",
        "if(ispangram(kalimat) == True):\n",
        "    print(\"Benar!!! \\nKalimat ini adalah pangram \")            # jika benar, akan keluar benar kalimat ini adalah pangram\n",
        "else:\n",
        "    print(\"Tidak!!! \\nKalimat ini BUKAN pangram \")             # jika benar, akan keluar Tidak kalimat ini bukan pangram\n"
      ],
      "metadata": {
        "colab": {
          "base_uri": "https://localhost:8080/"
        },
        "id": "2y-u2noC5IQJ",
        "outputId": "d3007663-952d-4c7d-b009-51ffce93e39e"
      },
      "execution_count": 1,
      "outputs": [
        {
          "output_type": "stream",
          "name": "stdout",
          "text": [
            "Benar!!! \n",
            "Kalimat ini adalah pangram \n"
          ]
        }
      ]
    }
  ]
}